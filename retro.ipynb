{
 "metadata": {
  "language_info": {
   "codemirror_mode": {
    "name": "ipython",
    "version": 3
   },
   "file_extension": ".py",
   "mimetype": "text/x-python",
   "name": "python",
   "nbconvert_exporter": "python",
   "pygments_lexer": "ipython3",
   "version": "3.9.1"
  },
  "orig_nbformat": 2,
  "kernelspec": {
   "name": "python391jvsc74a57bd0ee5cc6fef2d70a7e71ee3826687cbd150f18158e0b1eef11d4f4f92bb920e304",
   "display_name": "Python 3.9.1 64-bit"
  },
  "metadata": {
   "interpreter": {
    "hash": "ee5cc6fef2d70a7e71ee3826687cbd150f18158e0b1eef11d4f4f92bb920e304"
   }
  }
 },
 "nbformat": 4,
 "nbformat_minor": 2,
 "cells": [
  {
   "cell_type": "code",
   "execution_count": 1,
   "metadata": {},
   "outputs": [],
   "source": [
    "# Import libraries\n",
    "import mysql.connector \n",
    "import pandas as pd"
   ]
  },
  {
   "cell_type": "code",
   "execution_count": 2,
   "metadata": {},
   "outputs": [],
   "source": [
    "# Create connection\n",
    "mydb = mysql.connector.connect(\n",
    "    host = 'localhost',\n",
    "    user = 'root',\n",
    "    passwd = '101014sd',\n",
    "    database = 'retrowheels'\n",
    ")"
   ]
  },
  {
   "cell_type": "code",
   "execution_count": 21,
   "metadata": {},
   "outputs": [
    {
     "output_type": "execute_result",
     "data": {
      "text/plain": [
       "            city  employeeNumber\n",
       "0  San Francisco               6\n",
       "1          Paris               5\n",
       "2         Sydney               4\n",
       "3         Boston               2\n",
       "4            NYC               2\n",
       "5          Tokyo               2\n",
       "6         London               2"
      ],
      "text/html": "<div>\n<style scoped>\n    .dataframe tbody tr th:only-of-type {\n        vertical-align: middle;\n    }\n\n    .dataframe tbody tr th {\n        vertical-align: top;\n    }\n\n    .dataframe thead th {\n        text-align: right;\n    }\n</style>\n<table border=\"1\" class=\"dataframe\">\n  <thead>\n    <tr style=\"text-align: right;\">\n      <th></th>\n      <th>city</th>\n      <th>employeeNumber</th>\n    </tr>\n  </thead>\n  <tbody>\n    <tr>\n      <th>0</th>\n      <td>San Francisco</td>\n      <td>6</td>\n    </tr>\n    <tr>\n      <th>1</th>\n      <td>Paris</td>\n      <td>5</td>\n    </tr>\n    <tr>\n      <th>2</th>\n      <td>Sydney</td>\n      <td>4</td>\n    </tr>\n    <tr>\n      <th>3</th>\n      <td>Boston</td>\n      <td>2</td>\n    </tr>\n    <tr>\n      <th>4</th>\n      <td>NYC</td>\n      <td>2</td>\n    </tr>\n    <tr>\n      <th>5</th>\n      <td>Tokyo</td>\n      <td>2</td>\n    </tr>\n    <tr>\n      <th>6</th>\n      <td>London</td>\n      <td>2</td>\n    </tr>\n  </tbody>\n</table>\n</div>"
     },
     "metadata": {},
     "execution_count": 21
    }
   ],
   "source": [
    "# Soal 1\n",
    "mycursor = mydb.cursor()\n",
    "\n",
    "query = 'SELECT off.city, COUNT(e.officeCode) AS employeeNumber FROM offices AS off INNER JOIN employees as e USING (officeCode) GROUP BY officeCode ORDER BY COUNT(e.officeCode) DESC'\n",
    "\n",
    "mycursor.execute(query)\n",
    "\n",
    "result = mycursor.fetchall()\n",
    "\n",
    "df = pd.DataFrame(result, columns = mycursor.column_names)\n",
    "df"
   ]
  },
  {
   "cell_type": "code",
   "execution_count": 32,
   "metadata": {},
   "outputs": [
    {
     "output_type": "execute_result",
     "data": {
      "text/plain": [
       "   ProductLineNum  ProductNumber\n",
       "0               7            110"
      ],
      "text/html": "<div>\n<style scoped>\n    .dataframe tbody tr th:only-of-type {\n        vertical-align: middle;\n    }\n\n    .dataframe tbody tr th {\n        vertical-align: top;\n    }\n\n    .dataframe thead th {\n        text-align: right;\n    }\n</style>\n<table border=\"1\" class=\"dataframe\">\n  <thead>\n    <tr style=\"text-align: right;\">\n      <th></th>\n      <th>ProductLineNum</th>\n      <th>ProductNumber</th>\n    </tr>\n  </thead>\n  <tbody>\n    <tr>\n      <th>0</th>\n      <td>7</td>\n      <td>110</td>\n    </tr>\n  </tbody>\n</table>\n</div>"
     },
     "metadata": {},
     "execution_count": 32
    }
   ],
   "source": [
    "# Soal 2\n",
    "mycursor = mydb.cursor()\n",
    "\n",
    "query = 'SELECT COUNT(DISTINCT(pl.productLine)) AS ProductLineNum, COUNT(p.productName) AS ProductNumber  FROM productlines AS pl INNER JOIN products as p USING (productLine)'\n",
    "\n",
    "mycursor.execute(query)\n",
    "\n",
    "result = mycursor.fetchall()\n",
    "\n",
    "df = pd.DataFrame(result, columns = mycursor.column_names)\n",
    "df"
   ]
  },
  {
   "cell_type": "code",
   "execution_count": 37,
   "metadata": {},
   "outputs": [
    {
     "output_type": "execute_result",
     "data": {
      "text/plain": [
       "  productCode                              productName   productLine  \\\n",
       "0    S18_3232              1992 Ferrari 360 Spider red  Classic Cars   \n",
       "1    S18_1342                     1937 Lincoln Berline  Vintage Cars   \n",
       "2   S700_4002                American Airlines: MD-11S        Planes   \n",
       "3    S18_3856  1941 Chevrolet Special Deluxe Cabriolet  Vintage Cars   \n",
       "4    S50_1341             1930 Buick Marquette Phaeton  Vintage Cars   \n",
       "\n",
       "  orderQuantity  \n",
       "0          1808  \n",
       "1          1111  \n",
       "2          1085  \n",
       "3          1076  \n",
       "4          1074  "
      ],
      "text/html": "<div>\n<style scoped>\n    .dataframe tbody tr th:only-of-type {\n        vertical-align: middle;\n    }\n\n    .dataframe tbody tr th {\n        vertical-align: top;\n    }\n\n    .dataframe thead th {\n        text-align: right;\n    }\n</style>\n<table border=\"1\" class=\"dataframe\">\n  <thead>\n    <tr style=\"text-align: right;\">\n      <th></th>\n      <th>productCode</th>\n      <th>productName</th>\n      <th>productLine</th>\n      <th>orderQuantity</th>\n    </tr>\n  </thead>\n  <tbody>\n    <tr>\n      <th>0</th>\n      <td>S18_3232</td>\n      <td>1992 Ferrari 360 Spider red</td>\n      <td>Classic Cars</td>\n      <td>1808</td>\n    </tr>\n    <tr>\n      <th>1</th>\n      <td>S18_1342</td>\n      <td>1937 Lincoln Berline</td>\n      <td>Vintage Cars</td>\n      <td>1111</td>\n    </tr>\n    <tr>\n      <th>2</th>\n      <td>S700_4002</td>\n      <td>American Airlines: MD-11S</td>\n      <td>Planes</td>\n      <td>1085</td>\n    </tr>\n    <tr>\n      <th>3</th>\n      <td>S18_3856</td>\n      <td>1941 Chevrolet Special Deluxe Cabriolet</td>\n      <td>Vintage Cars</td>\n      <td>1076</td>\n    </tr>\n    <tr>\n      <th>4</th>\n      <td>S50_1341</td>\n      <td>1930 Buick Marquette Phaeton</td>\n      <td>Vintage Cars</td>\n      <td>1074</td>\n    </tr>\n  </tbody>\n</table>\n</div>"
     },
     "metadata": {},
     "execution_count": 37
    }
   ],
   "source": [
    "# Soal 3\n",
    "mycursor = mydb.cursor()\n",
    "\n",
    "query = 'SELECT p.productCode, p.productName, p.productLine, SUM(od.quantityOrdered) AS orderQuantity FROM products AS p INNER JOIN orderdetails as od USING (productCode) GROUP BY productCode ORDER BY SUM(od.quantityOrdered) DESC LIMIT 5'\n",
    "\n",
    "mycursor.execute(query)\n",
    "\n",
    "result = mycursor.fetchall()\n",
    "\n",
    "df = pd.DataFrame(result, columns = mycursor.column_names)\n",
    "df"
   ]
  },
  {
   "cell_type": "code",
   "execution_count": 96,
   "metadata": {},
   "outputs": [
    {
     "output_type": "execute_result",
     "data": {
      "text/plain": [
       "                   customerName          city      country totalOrder\n",
       "0        Euro+ Shopping Channel        Madrid        Spain        308\n",
       "1               Vida Sport, Ltd        Genève  Switzerland         79\n",
       "2  Motor Mint Distributors Inc.  Philadelphia          USA         73\n",
       "3            Muscle Machine Inc           NYC          USA         70\n",
       "4       Oulu Toy Supplies, Inc.          Oulu      Finland         68"
      ],
      "text/html": "<div>\n<style scoped>\n    .dataframe tbody tr th:only-of-type {\n        vertical-align: middle;\n    }\n\n    .dataframe tbody tr th {\n        vertical-align: top;\n    }\n\n    .dataframe thead th {\n        text-align: right;\n    }\n</style>\n<table border=\"1\" class=\"dataframe\">\n  <thead>\n    <tr style=\"text-align: right;\">\n      <th></th>\n      <th>customerName</th>\n      <th>city</th>\n      <th>country</th>\n      <th>totalOrder</th>\n    </tr>\n  </thead>\n  <tbody>\n    <tr>\n      <th>0</th>\n      <td>Euro+ Shopping Channel</td>\n      <td>Madrid</td>\n      <td>Spain</td>\n      <td>308</td>\n    </tr>\n    <tr>\n      <th>1</th>\n      <td>Vida Sport, Ltd</td>\n      <td>Genève</td>\n      <td>Switzerland</td>\n      <td>79</td>\n    </tr>\n    <tr>\n      <th>2</th>\n      <td>Motor Mint Distributors Inc.</td>\n      <td>Philadelphia</td>\n      <td>USA</td>\n      <td>73</td>\n    </tr>\n    <tr>\n      <th>3</th>\n      <td>Muscle Machine Inc</td>\n      <td>NYC</td>\n      <td>USA</td>\n      <td>70</td>\n    </tr>\n    <tr>\n      <th>4</th>\n      <td>Oulu Toy Supplies, Inc.</td>\n      <td>Oulu</td>\n      <td>Finland</td>\n      <td>68</td>\n    </tr>\n  </tbody>\n</table>\n</div>"
     },
     "metadata": {},
     "execution_count": 96
    }
   ],
   "source": [
    "# Soal 4\n",
    "mycursor = mydb.cursor()\n",
    "\n",
    "query = 'SELECT c.customerName,c.city, c.country, sum(od.quantityOrdered) AS totalOrder FROM orderdetails as od INNER JOIN orders AS o USING (orderNumber) INNER JOIN customers AS c USING (customerNumber) WHERE productCode=\"S18_3232\" group by customerName ORDER BY SUM(od.quantityOrdered) DESC'\n",
    "\n",
    "mycursor.execute(query)\n",
    "\n",
    "result = mycursor.fetchall()\n",
    "\n",
    "df = pd.DataFrame(result, columns = mycursor.column_names)\n",
    "df.head(5)"
   ]
  },
  {
   "cell_type": "code",
   "execution_count": 157,
   "metadata": {},
   "outputs": [
    {
     "output_type": "execute_result",
     "data": {
      "text/plain": [
       "   productCode                                productName   productLine  \\\n",
       "0     S18_2795                     1928 Mercedes-Benz SSK  Vintage Cars   \n",
       "1     S24_3420                  1937 Horch 930V Limousine  Vintage Cars   \n",
       "2     S18_3136        18th Century Vintage Horse Carriage  Vintage Cars   \n",
       "3     S18_3140                          1903 Ford Model A  Vintage Cars   \n",
       "4     S24_3969           1936 Mercedes Benz 500k Roadster  Vintage Cars   \n",
       "5     S24_3816                   1940 Ford Delivery Sedan  Vintage Cars   \n",
       "6     S18_2248                         1911 Ford Town Car  Vintage Cars   \n",
       "7     S24_1937                1939 Chevrolet Deluxe Coupe  Vintage Cars   \n",
       "8     S24_2022  1938 Cadillac V-16 Presidential Limousine  Vintage Cars   \n",
       "9     S18_2325                  1932 Model A Ford J-Coupe  Vintage Cars   \n",
       "10    S18_1367   1936 Mercedes-Benz 500K Special Roadster  Vintage Cars   \n",
       "11    S18_4409        1932 Alfa Romeo 8C2300 Spider Sport  Vintage Cars   \n",
       "12    S32_4289                   1928 Ford Phaeton Deluxe  Vintage Cars   \n",
       "13    S24_4258                      1936 Chrysler Airflow  Vintage Cars   \n",
       "14    S18_2957                         1934 Ford V8 Coupe  Vintage Cars   \n",
       "15    S18_3320                   1917 Maxwell Touring Car  Vintage Cars   \n",
       "16    S18_4668                    1939 Cadillac Limousine  Vintage Cars   \n",
       "17    S18_4522                        1904 Buick Runabout  Vintage Cars   \n",
       "18    S24_3151           1912 Ford Model T Delivery Wagon  Vintage Cars   \n",
       "19    S18_1749                   1917 Grand Touring Sedan  Vintage Cars   \n",
       "20    S18_2949                1913 Ford Model T Speedster  Vintage Cars   \n",
       "21    S50_1341               1930 Buick Marquette Phaeton  Vintage Cars   \n",
       "22    S18_3856    1941 Chevrolet Special Deluxe Cabriolet  Vintage Cars   \n",
       "23    S18_1342                       1937 Lincoln Berline  Vintage Cars   \n",
       "\n",
       "   avg(quantityOrdered)  \n",
       "0               31.4286  \n",
       "1               31.5714  \n",
       "2               32.3929  \n",
       "3               32.7037  \n",
       "4               32.9600  \n",
       "5               32.9643  \n",
       "6               33.2800  \n",
       "7               33.4643  \n",
       "8               34.1071  \n",
       "9               34.1786  \n",
       "10              34.2857  \n",
       "11              34.6400  \n",
       "12              34.7143  \n",
       "13              35.1071  \n",
       "14              35.1786  \n",
       "15              35.4286  \n",
       "16              35.5357  \n",
       "17              36.6667  \n",
       "18              36.7037  \n",
       "19              36.7200  \n",
       "20              37.0714  \n",
       "21              38.3571  \n",
       "22              38.4286  \n",
       "23              39.6786  "
      ],
      "text/html": "<div>\n<style scoped>\n    .dataframe tbody tr th:only-of-type {\n        vertical-align: middle;\n    }\n\n    .dataframe tbody tr th {\n        vertical-align: top;\n    }\n\n    .dataframe thead th {\n        text-align: right;\n    }\n</style>\n<table border=\"1\" class=\"dataframe\">\n  <thead>\n    <tr style=\"text-align: right;\">\n      <th></th>\n      <th>productCode</th>\n      <th>productName</th>\n      <th>productLine</th>\n      <th>avg(quantityOrdered)</th>\n    </tr>\n  </thead>\n  <tbody>\n    <tr>\n      <th>0</th>\n      <td>S18_2795</td>\n      <td>1928 Mercedes-Benz SSK</td>\n      <td>Vintage Cars</td>\n      <td>31.4286</td>\n    </tr>\n    <tr>\n      <th>1</th>\n      <td>S24_3420</td>\n      <td>1937 Horch 930V Limousine</td>\n      <td>Vintage Cars</td>\n      <td>31.5714</td>\n    </tr>\n    <tr>\n      <th>2</th>\n      <td>S18_3136</td>\n      <td>18th Century Vintage Horse Carriage</td>\n      <td>Vintage Cars</td>\n      <td>32.3929</td>\n    </tr>\n    <tr>\n      <th>3</th>\n      <td>S18_3140</td>\n      <td>1903 Ford Model A</td>\n      <td>Vintage Cars</td>\n      <td>32.7037</td>\n    </tr>\n    <tr>\n      <th>4</th>\n      <td>S24_3969</td>\n      <td>1936 Mercedes Benz 500k Roadster</td>\n      <td>Vintage Cars</td>\n      <td>32.9600</td>\n    </tr>\n    <tr>\n      <th>5</th>\n      <td>S24_3816</td>\n      <td>1940 Ford Delivery Sedan</td>\n      <td>Vintage Cars</td>\n      <td>32.9643</td>\n    </tr>\n    <tr>\n      <th>6</th>\n      <td>S18_2248</td>\n      <td>1911 Ford Town Car</td>\n      <td>Vintage Cars</td>\n      <td>33.2800</td>\n    </tr>\n    <tr>\n      <th>7</th>\n      <td>S24_1937</td>\n      <td>1939 Chevrolet Deluxe Coupe</td>\n      <td>Vintage Cars</td>\n      <td>33.4643</td>\n    </tr>\n    <tr>\n      <th>8</th>\n      <td>S24_2022</td>\n      <td>1938 Cadillac V-16 Presidential Limousine</td>\n      <td>Vintage Cars</td>\n      <td>34.1071</td>\n    </tr>\n    <tr>\n      <th>9</th>\n      <td>S18_2325</td>\n      <td>1932 Model A Ford J-Coupe</td>\n      <td>Vintage Cars</td>\n      <td>34.1786</td>\n    </tr>\n    <tr>\n      <th>10</th>\n      <td>S18_1367</td>\n      <td>1936 Mercedes-Benz 500K Special Roadster</td>\n      <td>Vintage Cars</td>\n      <td>34.2857</td>\n    </tr>\n    <tr>\n      <th>11</th>\n      <td>S18_4409</td>\n      <td>1932 Alfa Romeo 8C2300 Spider Sport</td>\n      <td>Vintage Cars</td>\n      <td>34.6400</td>\n    </tr>\n    <tr>\n      <th>12</th>\n      <td>S32_4289</td>\n      <td>1928 Ford Phaeton Deluxe</td>\n      <td>Vintage Cars</td>\n      <td>34.7143</td>\n    </tr>\n    <tr>\n      <th>13</th>\n      <td>S24_4258</td>\n      <td>1936 Chrysler Airflow</td>\n      <td>Vintage Cars</td>\n      <td>35.1071</td>\n    </tr>\n    <tr>\n      <th>14</th>\n      <td>S18_2957</td>\n      <td>1934 Ford V8 Coupe</td>\n      <td>Vintage Cars</td>\n      <td>35.1786</td>\n    </tr>\n    <tr>\n      <th>15</th>\n      <td>S18_3320</td>\n      <td>1917 Maxwell Touring Car</td>\n      <td>Vintage Cars</td>\n      <td>35.4286</td>\n    </tr>\n    <tr>\n      <th>16</th>\n      <td>S18_4668</td>\n      <td>1939 Cadillac Limousine</td>\n      <td>Vintage Cars</td>\n      <td>35.5357</td>\n    </tr>\n    <tr>\n      <th>17</th>\n      <td>S18_4522</td>\n      <td>1904 Buick Runabout</td>\n      <td>Vintage Cars</td>\n      <td>36.6667</td>\n    </tr>\n    <tr>\n      <th>18</th>\n      <td>S24_3151</td>\n      <td>1912 Ford Model T Delivery Wagon</td>\n      <td>Vintage Cars</td>\n      <td>36.7037</td>\n    </tr>\n    <tr>\n      <th>19</th>\n      <td>S18_1749</td>\n      <td>1917 Grand Touring Sedan</td>\n      <td>Vintage Cars</td>\n      <td>36.7200</td>\n    </tr>\n    <tr>\n      <th>20</th>\n      <td>S18_2949</td>\n      <td>1913 Ford Model T Speedster</td>\n      <td>Vintage Cars</td>\n      <td>37.0714</td>\n    </tr>\n    <tr>\n      <th>21</th>\n      <td>S50_1341</td>\n      <td>1930 Buick Marquette Phaeton</td>\n      <td>Vintage Cars</td>\n      <td>38.3571</td>\n    </tr>\n    <tr>\n      <th>22</th>\n      <td>S18_3856</td>\n      <td>1941 Chevrolet Special Deluxe Cabriolet</td>\n      <td>Vintage Cars</td>\n      <td>38.4286</td>\n    </tr>\n    <tr>\n      <th>23</th>\n      <td>S18_1342</td>\n      <td>1937 Lincoln Berline</td>\n      <td>Vintage Cars</td>\n      <td>39.6786</td>\n    </tr>\n  </tbody>\n</table>\n</div>"
     },
     "metadata": {},
     "execution_count": 157
    }
   ],
   "source": [
    "# Soal 5\n",
    "mycursor = mydb.cursor()\n",
    "\n",
    "query = 'SELECT p.productCode, p.productName, p.productLine, avg(quantityOrdered) from products as p inner join orderdetails as od using (productCode) where productLine=\"Vintage Cars\" group by productCode order by avg(quantityOrdered) asc '\n",
    "mycursor.execute(query)\n",
    "\n",
    "result = mycursor.fetchall()\n",
    "\n",
    "df = pd.DataFrame(result, columns = mycursor.column_names)\n",
    "df"
   ]
  }
 ]
}